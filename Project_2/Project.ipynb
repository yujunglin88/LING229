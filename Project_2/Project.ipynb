{
 "cells": [
  {
   "cell_type": "markdown",
   "metadata": {},
   "source": [
    "# Project 2\n",
    "\n",
    "Jeff Lin   \n",
    "300 599 323"
   ]
  },
  {
   "cell_type": "markdown",
   "metadata": {},
   "source": [
    "As I am interested in the complexity and story telling of music, I naturally thought of comparing lyrics in modern day pop music vs broadway musicals, and want to see the difference in tone/depth of the different genera.   \n",
    "I've also included 4 very different musicals as they very a lot in styles, they are: \n",
    "* Lion King\n",
    "* Hamilton\n",
    "* Book of Mormon\n",
    "* Phantom of Opera\n",
    "\n",
    "These can also be compared to each other, or indivudlly to pop lyrics"
   ]
  },
  {
   "cell_type": "markdown",
   "metadata": {},
   "source": [
    "The lyrics are all collected from [Musical Lyrics](https://www.allmusicals.com/), whilst the top 10 ranking musicals was referenced from wiki [Broadway highest-grossing musicals](https://en.wikipedia.org/wiki/List_of_highest-grossing_musical_theatre_productions)\n",
    "\n",
    "As we are just interested in the lyrics of the musical genera in general, so the accuracy of the list doesn't really matter long as it is well-known pieces of production, hence my selection"
   ]
  },
  {
   "cell_type": "markdown",
   "metadata": {},
   "source": [
    "First I use the loader made previously to load the corpuses, setting up for the project"
   ]
  },
  {
   "cell_type": "code",
   "execution_count": 4,
   "metadata": {},
   "outputs": [],
   "source": [
    "import sys\n",
    "sys.path.append('../')\n",
    "import corpus_loader\n",
    "\n",
    "\n",
    "CORPUS_DIR = '../corpus/'\n",
    "BILLBOARD = 'Billboard/'\n",
    "BROADWAY = 'Broadway/'"
   ]
  },
  {
   "cell_type": "markdown",
   "metadata": {},
   "source": [
    "Load all of the broadway corpuses"
   ]
  },
  {
   "cell_type": "code",
   "execution_count": 5,
   "metadata": {},
   "outputs": [],
   "source": [
    "Lion_King_corpus, Lion_King_corpus_dict, Lion_King_corpus_df = corpus_loader.load_corpus(CORPUS_DIR+BROADWAY+'Lion King/')\n",
    "Hamilton_corpus, Hamilton_corpus_dict, Hamilton_corpus_df = corpus_loader.load_corpus(CORPUS_DIR+BROADWAY+'Hamilton/')\n",
    "Book_of_Mormon_corpus, Book_of_Mormon_corpus_dict, Book_of_Mormon_corpus_df = corpus_loader.load_corpus(CORPUS_DIR+BROADWAY+'Book of Mormon/')\n",
    "Phantom_of_Opera_corpus, Phantom_of_Opera_corpus_dict, Phantom_of_Opera_corpus_df = corpus_loader.load_corpus(CORPUS_DIR+BROADWAY+'Phantom of Opera/')"
   ]
  },
  {
   "cell_type": "markdown",
   "metadata": {},
   "source": [
    "Check the corpus"
   ]
  },
  {
   "cell_type": "code",
   "execution_count": 6,
   "metadata": {},
   "outputs": [
    {
     "name": "stdout",
     "output_type": "stream",
     "text": [
      "['01 Circle of Life.txt', '02 Grasslands Chant.txt', '03 Morning Report.txt', '04 Lioness Hunt.txt', \"05 I Just Can't Wait to Be King.txt\", '06 Chow Down.txt', '07 They Live in You.txt', '08 Be Prepared.txt', '10 Rafiki Mourns.txt', '11 Hakuna Matata.txt', '12 One by One.txt', '13 Madness of King Scar.txt', '14 Shadowland.txt', '15 Lion Sleeps Tonight.txt', '16 Endless Night.txt', '17 Can You Feel the Love Tonight.txt', '18 He Lives in You (Reprise).txt', '20 King of Pride Rock-Circle of Life .txt']\n",
      "['AFIKI', 'AND', 'ENSEMBLE', ':', 'Nants', 'ingonyama', ...]\n"
     ]
    }
   ],
   "source": [
    "print(Lion_King_corpus.fileids())\n",
    "print(Lion_King_corpus.words())"
   ]
  },
  {
   "cell_type": "code",
   "execution_count": 7,
   "metadata": {},
   "outputs": [
    {
     "name": "stdout",
     "output_type": "stream",
     "text": [
      "['Hamilton.txt']\n",
      "['ACT', '1', '1', '.', 'Alexander', 'Hamilton', 'BURR', ...]\n"
     ]
    }
   ],
   "source": [
    "print(Hamilton_corpus.fileids())\n",
    "print(Hamilton_corpus.words())"
   ]
  },
  {
   "cell_type": "code",
   "execution_count": 8,
   "metadata": {},
   "outputs": [
    {
     "name": "stdout",
     "output_type": "stream",
     "text": [
      "['01 Hello.txt', '02 Two By Two.txt', '03 You And Me (But Mostly Me).txt', '04 Hasa Diga Eebowai.txt', '05 Turn It Off.txt', '06 I Am Here For You.txt', '07 All-American Prophet.txt', '08 Sal Tlay Ka Siti.txt', '09 Man Up.txt', '10 Making Things Up Again.txt', '11 Spooky Mormon Hell Dream.txt', '12 I Believe.txt', '13 Baptize Me.txt', '14 I Am Africa.txt', '15 Joseph Smith American Moses.txt', '16 Tomorrow Is A Latter Day.txt']\n",
      "['ELDER', 'PRICE', ':', 'Hello', '!', 'My', 'name', ...]\n"
     ]
    }
   ],
   "source": [
    "print(Book_of_Mormon_corpus.fileids())\n",
    "print(Book_of_Mormon_corpus.words())"
   ]
  },
  {
   "cell_type": "code",
   "execution_count": 9,
   "metadata": {},
   "outputs": [
    {
     "name": "stdout",
     "output_type": "stream",
     "text": [
      "['Phantom of Opera.txt']\n",
      "['THE', 'STAGE', 'OF', 'THE', 'PARIS', 'OPERA', ',', ...]\n"
     ]
    }
   ],
   "source": [
    "print(Phantom_of_Opera_corpus.fileids())\n",
    "print(Phantom_of_Opera_corpus.words())"
   ]
  }
 ],
 "metadata": {
  "kernelspec": {
   "display_name": "Python 3",
   "language": "python",
   "name": "python3"
  },
  "language_info": {
   "codemirror_mode": {
    "name": "ipython",
    "version": 3
   },
   "file_extension": ".py",
   "mimetype": "text/x-python",
   "name": "python",
   "nbconvert_exporter": "python",
   "pygments_lexer": "ipython3",
   "version": "3.12.0"
  }
 },
 "nbformat": 4,
 "nbformat_minor": 2
}
