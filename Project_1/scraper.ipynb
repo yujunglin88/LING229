{
 "cells": [
  {
   "cell_type": "code",
   "execution_count": null,
   "metadata": {},
   "outputs": [],
   "source": [
    "from dotenv import load_dotenv\n",
    "import os\n",
    "\n",
    "load_dotenv()\n",
    "google_api = os.getenv(\"GOOGLE_API\")\n",
    "engine_id = os.getenv(\"ENGINE_ID\")"
   ]
  },
  {
   "cell_type": "code",
   "execution_count": null,
   "metadata": {},
   "outputs": [],
   "source": [
    "import requests\n",
    "import json\n",
    "\n",
    "def get_song_lyrics(song_name, artist_name):\n",
    "    # get song lyrics from google search\n",
    "    url = \"https://www.googleapis.com/customsearch/v1\"\n",
    "    query = song_name + \" \" + artist_name + \" lyrics\"\n",
    "    params = {\n",
    "        \"key\": google_api,\n",
    "        \"cx\": engine_id,\n",
    "        \"q\": query\n",
    "    }\n",
    "    response = requests.get(url, params=params)\n",
    "    data = response.json()\n",
    "    if \"items\" in data:\n",
    "        for item in data[\"items\"]:\n",
    "            if \"lyrics\" in item[\"link\"]:\n",
    "                lyrics_url = item[\"link\"]\n",
    "                print(\"Lyrics found at: \" + lyrics_url)\n",
    "                break\n",
    "        else:\n",
    "            return \"Lyrics not found\"\n",
    "    else:\n",
    "        return \"Lyrics not found\"\n",
    "    response = requests.get(lyrics_url)\n",
    "    data = response.text\n",
    "    print(data)\n",
    "    start = data.find(\"<div class='lyrics'>\")\n",
    "    end = data.find(\"</div>\", start)\n",
    "    lyrics = data[start:end]\n",
    "    lyrics = lyrics.replace(\"<br>\", \"\\n\")\n",
    "    return lyrics\n"
   ]
  },
  {
   "cell_type": "code",
   "execution_count": null,
   "metadata": {},
   "outputs": [],
   "source": [
    "get_song_lyrics(\"Shape of you\", \"Ed Sheeran\")"
   ]
  }
 ],
 "metadata": {
  "kernelspec": {
   "display_name": "Python 3",
   "language": "python",
   "name": "python3"
  },
  "language_info": {
   "codemirror_mode": {
    "name": "ipython",
    "version": 3
   },
   "file_extension": ".py",
   "mimetype": "text/x-python",
   "name": "python",
   "nbconvert_exporter": "python",
   "pygments_lexer": "ipython3",
   "version": "3.12.0"
  }
 },
 "nbformat": 4,
 "nbformat_minor": 2
}
