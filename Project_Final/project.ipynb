{
 "cells": [
  {
   "cell_type": "markdown",
   "metadata": {},
   "source": [
    "# LING229 Final Project\n",
    "* by Jeff Lin, 300 599 323"
   ]
  },
  {
   "cell_type": "markdown",
   "metadata": {},
   "source": [
    "## Data Scourse\n",
    "\n",
    "The list of sourse materials are consulted from the following websites: \n",
    "* [Official Charts](https://www.officialcharts.com/chart-news/the-official-biggest-songs-of-2024/)\n",
    "* [Broadway highest-grossing musicals](https://en.wikipedia.org/wiki/List_of_highest-grossing_musical_theatre_productions)\n",
    "* [Top Opera List](https://www.eno.org/discover-opera/explore-more/beginners-guide-to-famous-operas/)\n",
    "\n",
    "The lyris of chosen pieces are extracted from the following sites:\n",
    "* [Google Lyrics (for Billboard songs)](https://www.google.com)\n",
    "* [Musical Lyrics](https://www.allmusicals.com/)\n",
    "* [Comic Opera Guild](https://comicoperaguild.org/)\n",
    "* [Genius](https://genius.com/)\n",
    "* [Opera Guide](https://opera-guide.ch/en/)"
   ]
  },
  {
   "cell_type": "markdown",
   "metadata": {},
   "source": []
  }
 ],
 "metadata": {
  "language_info": {
   "name": "python"
  }
 },
 "nbformat": 4,
 "nbformat_minor": 2
}
